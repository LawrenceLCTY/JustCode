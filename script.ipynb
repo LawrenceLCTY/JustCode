{
 "cells": [
  {
   "attachments": {},
   "cell_type": "markdown",
   "metadata": {},
   "source": [
    "Hello World"
   ]
  },
  {
   "cell_type": "code",
   "execution_count": 1,
   "metadata": {},
   "outputs": [
    {
     "name": "stdout",
     "output_type": "stream",
     "text": [
      "Hello World!\n"
     ]
    }
   ],
   "source": [
    "print('Hello World!')"
   ]
  },
  {
   "attachments": {},
   "cell_type": "markdown",
   "metadata": {},
   "source": [
    "Basic I/O"
   ]
  },
  {
   "cell_type": "code",
   "execution_count": 35,
   "metadata": {},
   "outputs": [
    {
     "name": "stdout",
     "output_type": "stream",
     "text": [
      "Hellol!\n",
      "Hello l!\n",
      "Hello  l !\n",
      "Hello l !\n",
      "Hello l!\n",
      "Hello name!\n",
      "Hello {name}!\n"
     ]
    }
   ],
   "source": [
    "name = input('Enter name: ')\n",
    "print(\"Hello\" + name + \"!\")\n",
    "print(\"Hello \" + name + \"!\")\n",
    "print(\"Hello \", name, \"!\")\n",
    "print(\"Hello\", name, \"!\")\n",
    "print(f\"Hello {name}!\")\n",
    "print(\"Hello name!\")\n",
    "print(\"Hello {name}!\")"
   ]
  },
  {
   "attachments": {},
   "cell_type": "markdown",
   "metadata": {},
   "source": [
    "int"
   ]
  },
  {
   "cell_type": "code",
   "execution_count": 3,
   "metadata": {},
   "outputs": [
    {
     "name": "stdout",
     "output_type": "stream",
     "text": [
      "3\n"
     ]
    }
   ],
   "source": [
    "# num1 = input()\n",
    "# num2 = input()\n",
    "num1 = int(input())\n",
    "num2 = int(input())\n",
    "print(num1+num2)"
   ]
  },
  {
   "attachments": {},
   "cell_type": "markdown",
   "metadata": {},
   "source": [
    "float"
   ]
  },
  {
   "cell_type": "code",
   "execution_count": 4,
   "metadata": {},
   "outputs": [
    {
     "name": "stdout",
     "output_type": "stream",
     "text": [
      "Weight = 100.0kg, Height = 200.0m\n"
     ]
    }
   ],
   "source": [
    "# weight = input('Enter weight(kg): ') #error\n",
    "# height = input('Enter height(m): ') #error\n",
    "# weight = int(input('Enter weight(kg): ')) #error\n",
    "# height = int(input('Enter height(m): ')) #error\n",
    "weight = float(input('Enter weight(kg): '))\n",
    "height = float(input('Enter height(m): '))\n",
    "print(f'Weight = {weight}kg, Height = {height}m')"
   ]
  },
  {
   "attachments": {},
   "cell_type": "markdown",
   "metadata": {},
   "source": [
    "Add, Sub"
   ]
  },
  {
   "cell_type": "code",
   "execution_count": 5,
   "metadata": {},
   "outputs": [
    {
     "name": "stdout",
     "output_type": "stream",
     "text": [
      "3\n",
      "-1\n",
      "HelloWorld\n",
      "Hello World\n",
      "Hello 1\n"
     ]
    }
   ],
   "source": [
    "print(num1 + num2)\n",
    "print(num1 - num2)\n",
    "\n",
    "x = 'Hello'\n",
    "y = 'World'\n",
    "\n",
    "print(x+y)\n",
    "print(x,y)\n",
    "# print(x-y) #error\n",
    "# print(x+num1) #error\n",
    "print(x,num1)"
   ]
  },
  {
   "attachments": {},
   "cell_type": "markdown",
   "metadata": {},
   "source": [
    "Mult, Div, Truediv, Mod, Pow"
   ]
  },
  {
   "cell_type": "code",
   "execution_count": 33,
   "metadata": {},
   "outputs": [
    {
     "name": "stdout",
     "output_type": "stream",
     "text": [
      "5 * 2 = 10\n",
      "5 ** 2 = 25\n",
      "5 / 2 = 2.5\n",
      "5 // 2 = 2\n",
      "5 % 2 = 1\n"
     ]
    }
   ],
   "source": [
    "print(f'5 * 2 = {5*2}')\n",
    "print(f'5 ** 2 = {5**2}')\n",
    "print(f'5 / 2 = {5/2}')\n",
    "print(f'5 // 2 = {5//2}')\n",
    "print(f'5 % 2 = {5%2}')"
   ]
  },
  {
   "attachments": {},
   "cell_type": "markdown",
   "metadata": {},
   "source": [
    "Activity 1: BMI\n",
    "> Body mass index (BMI) is a person's weight in kilograms divided by the square of height in meters"
   ]
  },
  {
   "cell_type": "code",
   "execution_count": 7,
   "metadata": {},
   "outputs": [
    {
     "name": "stdout",
     "output_type": "stream",
     "text": [
      "bmi: 0.0025\n"
     ]
    }
   ],
   "source": [
    "#question\n",
    "# weight = \n",
    "# height = \n",
    "# bmi = \n",
    "bmi = weight / (height ** 2) #answer\n",
    "print(f'bmi: {bmi}')"
   ]
  },
  {
   "attachments": {},
   "cell_type": "markdown",
   "metadata": {},
   "source": [
    "Bool, operators"
   ]
  },
  {
   "cell_type": "code",
   "execution_count": 8,
   "metadata": {},
   "outputs": [
    {
     "name": "stdout",
     "output_type": "stream",
     "text": [
      "False\n",
      "True\n",
      "True\n",
      "False\n",
      "True\n",
      "False\n",
      "True\n",
      "False\n"
     ]
    }
   ],
   "source": [
    "print(1 > 2)\n",
    "print(1 < 2)\n",
    "# print(2 = 2) #error\n",
    "print(2 == 2)\n",
    "print(2 > 2)\n",
    "print(2 >= 2)\n",
    "print(3 <= 2 and 2 == 2)\n",
    "print(3 <= 2 or 2 == 2)\n",
    "print(not(3 <= 2 or 2 == 2))"
   ]
  },
  {
   "attachments": {},
   "cell_type": "markdown",
   "metadata": {},
   "source": [
    "Lists, indexing"
   ]
  },
  {
   "cell_type": "code",
   "execution_count": 9,
   "metadata": {},
   "outputs": [
    {
     "name": "stdout",
     "output_type": "stream",
     "text": [
      "Number of elements in list: 10\n",
      "1\n",
      "2\n",
      "10\n",
      "dfcjsdbhvcyddkjhscsjhcsuhkjhvdfshjsdbdsjhjcbhdshjnxchdsajknxcbhsajkxnc bhxdsjaknxbchdsjkx\n",
      "d\n",
      "f\n",
      "x\n"
     ]
    }
   ],
   "source": [
    "numbers = [1,2,3,4,5,6,7,8,9,10]\n",
    "print(f'Number of elements in list: {len(numbers)}')\n",
    "print(numbers[0])\n",
    "print(numbers[1])\n",
    "print(numbers[-1])\n",
    "# print(numbers[100]) #error\n",
    "\n",
    "long_str = input('Give me a loooong str: ')\n",
    "print(long_str)\n",
    "print(long_str[0])\n",
    "print(long_str[1])\n",
    "print(long_str[-1])\n",
    "# print(long_str[100000000]) #error"
   ]
  },
  {
   "attachments": {},
   "cell_type": "markdown",
   "metadata": {},
   "source": [
    "Activity 2: print the middle element of the array"
   ]
  },
  {
   "cell_type": "code",
   "execution_count": null,
   "metadata": {},
   "outputs": [],
   "source": [
    "# print(f'Mid: {numbers[len(numbers)/2]}') #error\n",
    "print(f'Mid: {numbers[len(numbers)//2]}')"
   ]
  },
  {
   "attachments": {},
   "cell_type": "markdown",
   "metadata": {},
   "source": [
    "Subarrays, substrings"
   ]
  },
  {
   "cell_type": "code",
   "execution_count": 10,
   "metadata": {},
   "outputs": [
    {
     "name": "stdout",
     "output_type": "stream",
     "text": [
      "[1, 2, 3, 4, 5]\n",
      "[4, 5, 6, 7, 8, 9]\n",
      "fcjsdbhvc\n"
     ]
    }
   ],
   "source": [
    "print(numbers[0:5])\n",
    "print(numbers[3:9])\n",
    "print(long_str[1:10])"
   ]
  },
  {
   "attachments": {},
   "cell_type": "markdown",
   "metadata": {},
   "source": [
    "Adding and removing elements in list"
   ]
  },
  {
   "cell_type": "code",
   "execution_count": 11,
   "metadata": {},
   "outputs": [
    {
     "name": "stdout",
     "output_type": "stream",
     "text": [
      "[1, 2, 3, 4, 5, 6, 7, 8, 9, 10, 0]\n",
      "[1, 2, 3, 4, 5, 6, 7, 8, 9, 10, 0, 11, 12, 13, 14, 15]\n",
      "[1, 2, 3, 4, 5, 6, 7, 8, 9, 10, 11, 12, 13, 14, 15]\n",
      "[2, 3, 4, 5, 6, 7, 8, 9, 10, 11, 12, 13, 14, 15]\n",
      "[2, 3, 4, 5, 6, 7, 8, 9, 10, 11, 12, 13, 14]\n",
      "[2, 3, 4, 5, 6, 7, 8, 9, 10, 11, 13, 14]\n",
      "[2, 3, 4, 5, 6, 7, 8, 9, 10, 11]\n"
     ]
    }
   ],
   "source": [
    "numbers.append(0)\n",
    "print(numbers)\n",
    "list_2 = [11, 12, 13, 14, 15]\n",
    "# numbers += list_2\n",
    "numbers = numbers + list_2\n",
    "print(numbers)\n",
    "\n",
    "numbers.remove(0)\n",
    "print(numbers)\n",
    "numbers.pop(0)\n",
    "print(numbers)\n",
    "numbers.pop()\n",
    "print(numbers)\n",
    "del numbers[10]\n",
    "print(numbers)\n",
    "del numbers[10:]\n",
    "print(numbers)\n",
    "\n",
    "long_str += 'hi'\n",
    "print(long_str)\n",
    "# long_str -= 'hi' #error\n",
    "# long_str.append('hi') #error"
   ]
  },
  {
   "attachments": {},
   "cell_type": "markdown",
   "metadata": {},
   "source": [
    "Conditionals"
   ]
  },
  {
   "cell_type": "code",
   "execution_count": 3,
   "metadata": {},
   "outputs": [
    {
     "name": "stdout",
     "output_type": "stream",
     "text": [
      "not yet :)\n",
      "x is a positive number\n"
     ]
    }
   ],
   "source": [
    "# age = input('Enter your age: ') #error\n",
    "age = int(input('Enter your age: '))\n",
    "if age >= 21:\n",
    "    print('adult.')\n",
    "else:\n",
    "    print('not yet :)')\n",
    "\n",
    "x = 1\n",
    "if x > 0:\n",
    "    print('x is a positive number')\n",
    "elif x < 0:\n",
    "    print('x is a negative number')\n",
    "else:\n",
    "    print()\n",
    "    # print('x is zero') #ask audience what to print"
   ]
  },
  {
   "attachments": {},
   "cell_type": "markdown",
   "metadata": {},
   "source": [
    "Activity 3: Speeding\n",
    "\n",
    "> Speeding over the enforced speed limits can be fined up to RM300 (and offenders may also receive demerit points) as subject to KEJARA System by Malaysian Road Transport Department.\n",
    "\n",
    "The speed penalties are given according to the difference of the driven speed and the enforced speed limit as follows:-\\\n",
    "1 ~ 25 km/h: RM80\\\n",
    "26 ~ 40 km/h: RM150\\\n",
    "Over 40 km/h: RM300"
   ]
  },
  {
   "cell_type": "code",
   "execution_count": 7,
   "metadata": {},
   "outputs": [
    {
     "name": "stdout",
     "output_type": "stream",
     "text": [
      "Fine: RM300\n"
     ]
    }
   ],
   "source": [
    "limit = int(input('Enter speed limit(km/h): '))\n",
    "speed = int(input('Enter speed(km/h): '))\n",
    "# fine = 0\n",
    "diff = speed - limit\n",
    "if diff >= 1 and diff <= 25:\n",
    "    fine = 80\n",
    "elif diff in range(26, 41):\n",
    "    fine = 150\n",
    "elif diff > 40:\n",
    "    fine = 300\n",
    "else: #no speeding\n",
    "    fine = 0\n",
    "\n",
    "print(f\"Fine: RM{fine}\")"
   ]
  },
  {
   "attachments": {},
   "cell_type": "markdown",
   "metadata": {},
   "source": [
    "Loops"
   ]
  },
  {
   "cell_type": "code",
   "execution_count": 37,
   "metadata": {},
   "outputs": [
    {
     "name": "stdout",
     "output_type": "stream",
     "text": [
      "Hello JustCode!\n",
      "Hello JustCode!\n",
      "Hello JustCode!\n",
      "Hello JustCode!\n",
      "Hello JustCode!\n",
      "Hello JustCode!\n",
      "Hello JustCode!\n",
      "Hello JustCode!\n",
      "Hello JustCode!\n",
      "Hello JustCode!\n",
      "Hello JustCode!\n",
      "Hello JustCode!\n",
      "Hello JustCode!\n",
      "Hello JustCode!\n",
      "Hello JustCode!\n",
      "Hello JustCode!\n",
      "Bonjour JustCode!\n",
      "Hola JustCode!\n",
      "Ciao JustCode!\n",
      "Hallo JustCode!\n",
      "Olá JustCode!\n",
      "こんにちは JustCode!\n",
      "안녕하세요 JustCode!\n",
      "你好 JustCode!\n",
      "Здравствуйте JustCode!\n",
      "مرحباً JustCode!\n",
      "Բարև JustCode!\n",
      "Привіт JustCode!\n",
      "Sveiki JustCode!\n",
      "Sveiks JustCode!\n",
      "Γεια σου JustCode!\n",
      "Hei JustCode!\n",
      "Merhaba JustCode!\n",
      "Sawubona JustCode!\n",
      "Kumusta JustCode!\n",
      "Hello JustCode!\n",
      "Hello JustCode!\n",
      "Hello JustCode!\n",
      "Hello JustCode!\n",
      "Hello JustCode!\n"
     ]
    }
   ],
   "source": [
    "print('Hello JustCode!')\n",
    "print('Hello JustCode!')\n",
    "print('Hello JustCode!')\n",
    "print('Hello JustCode!')\n",
    "print('Hello JustCode!')\n",
    "\n",
    "for i in [0,1,2,3,4]:\n",
    "    print('Hello JustCode!')\n",
    "\n",
    "for i in range(5):\n",
    "    print('Hello JustCode!')\n",
    "\n",
    "hello_list = ['Hello JustCode!','Bonjour JustCode!','Hola JustCode!','Ciao JustCode!','Hallo JustCode!','Olá JustCode!','こんにちは JustCode!','안녕하세요 JustCode!','你好 JustCode!','Здравствуйте JustCode!','مرحباً JustCode!','Բարև JustCode!','Привіт JustCode!','Sveiki JustCode!','Sveiks JustCode!','Γεια σου JustCode!','Hei JustCode!','Merhaba JustCode!','Sawubona JustCode!','Kumusta JustCode!']\n",
    "for hello in hello_list:\n",
    "    # print('hello') #error\n",
    "    print(hello)\n",
    "\n",
    "i = 0\n",
    "while i < 5: \n",
    "    print('Hello JustCode!')\n",
    "    i += 1 #error without\n",
    "\n",
    "# while True:\n",
    "#     print('Hello JustCode!')"
   ]
  },
  {
   "attachments": {},
   "cell_type": "markdown",
   "metadata": {},
   "source": [
    "Functions"
   ]
  },
  {
   "cell_type": "code",
   "execution_count": null,
   "metadata": {},
   "outputs": [],
   "source": [
    "def greet():\n",
    "    print('Hello JustCode!')\n",
    "    \n",
    "def greet(name):\n",
    "    print(f'Hello {name}!')\n",
    "\n",
    "def body_mass_index(height, weight):\n",
    "# def body_mass_index(height:float, weight:float):\n",
    "# def body_mass_index():\n",
    "#     weight = float(input('Enter weight(kg): '))\n",
    "#     height = float(input('Enter height(m): '))    \n",
    "    return height / (weight**2)\n",
    "bmi = body_mass_index(height, weight)\n",
    "    "
   ]
  },
  {
   "attachments": {},
   "cell_type": "markdown",
   "metadata": {},
   "source": [
    "Libraries"
   ]
  },
  {
   "cell_type": "code",
   "execution_count": 41,
   "metadata": {},
   "outputs": [
    {
     "name": "stdout",
     "output_type": "stream",
     "text": [
      "0.30788469185608536\n",
      "3\n",
      "Sveiki JustCode!\n",
      "['Sveiki JustCode!', 'Sveiki JustCode!', 'こんにちは JustCode!']\n",
      "3.141592653589793\n",
      "2.718281828459045\n",
      "-0.5440211108893698\n",
      "-0.8390715290764524\n",
      "1.0\n"
     ]
    }
   ],
   "source": [
    "#Q: how do i write code for random? permutations? how to write THAT then?\n",
    "import random\n",
    "import math\n",
    "\n",
    "print(random.random())\n",
    "print(random.randint(1,10))\n",
    "print(random.choice(hello_list))\n",
    "print(random.choices(hello_list, k=3))\n",
    "# print(random.choices(hello_list, 3)) #error\n",
    "\n",
    "print(math.pi)\n",
    "print(math.e)\n",
    "print(math.sin(10))\n",
    "print(math.cos(10))\n",
    "print((math.sin(10))**2 + (math.cos(10))**2) #ask audience before run"
   ]
  },
  {
   "attachments": {},
   "cell_type": "markdown",
   "metadata": {},
   "source": [
    "Scissors Paper Stone"
   ]
  },
  {
   "cell_type": "code",
   "execution_count": 38,
   "metadata": {},
   "outputs": [],
   "source": [
    "def scissors_paper_stone(me, bot):\n",
    "    if me == 'scissors':\n",
    "        if bot == 'scissors':\n",
    "            print('Draw.')\n",
    "        elif bot == 'paper':\n",
    "            print('You win!')\n",
    "        elif bot == 'stone':\n",
    "        # else:\n",
    "            print('Bot wins!')\n",
    "    elif me == 'paper':\n",
    "        if bot == 'scissors':\n",
    "            print('Bot wins!.')\n",
    "        elif bot == 'paper':\n",
    "            print('Draw.')\n",
    "        elif bot == 'stone':\n",
    "        # else:\n",
    "            print('You win!')\n",
    "    elif me == 'stone':\n",
    "        if bot == 'scissors':\n",
    "            print('You win!')\n",
    "        elif bot == 'paper':\n",
    "            print('Bot wins!')\n",
    "        elif bot == 'stone':\n",
    "        # else:\n",
    "            print('Draw.')\n",
    "            \n",
    "def scissors_paper_stone_list(me:int, bot:int):\n",
    "    result = [['Draw.', 'You win!', 'Bot wins!'],\n",
    "              ['Bot wins!', 'Draw.', 'You win!'],\n",
    "              ['You win!', 'Bot wins!', 'Draw.']]\n",
    "    print(result[me][bot])\n"
   ]
  },
  {
   "cell_type": "code",
   "execution_count": 43,
   "metadata": {},
   "outputs": [
    {
     "name": "stdout",
     "output_type": "stream",
     "text": [
      "You played: stone\n",
      "Bot played: paper\n",
      "Bot wins!\n",
      "You played: paper\n",
      "Bot played: scissors\n",
      "Bot wins!\n"
     ]
    }
   ],
   "source": [
    "import random\n",
    "\n",
    "options = ['scissors', 'paper', 'stone']\n",
    "\n",
    "bot = random.choice(options)\n",
    "# me = input('Input: ')\n",
    "me = int(input('0 for scissors\\n1 for paper\\n2 for stone\\nInput: '))\n",
    "me = options[me]\n",
    "print(f'You played: {me}\\nBot played: {bot}')\n",
    "scissors_paper_stone(me, bot)\n",
    "\n",
    "bot = random.choice([0,1,2])\n",
    "me = int(input('0 for scissors\\n1 for paper\\n2 for stone\\nInput: '))\n",
    "print(f'You played: {options[me]}\\nBot played: {options[bot]}')\n",
    "scissors_paper_stone_list(me, bot)\n"
   ]
  },
  {
   "attachments": {},
   "cell_type": "markdown",
   "metadata": {},
   "source": [
    "Search (Binary and Linear)"
   ]
  },
  {
   "cell_type": "code",
   "execution_count": 42,
   "metadata": {},
   "outputs": [],
   "source": [
    "def linear_search(x, num):\n",
    "    found = False\n",
    "    for n in num:\n",
    "        if x == n:\n",
    "            found = True\n",
    "            # break\n",
    "            \n",
    "    if found:\n",
    "    # if found == True:\n",
    "        print('Found!')\n",
    "    else:\n",
    "        print('Not found.')\n",
    "\n",
    "def binary_search(x, num):\n",
    "    found = False\n",
    "    max = len(num) - 1\n",
    "    min = 0\n",
    "    while max >= min:\n",
    "        mid = (max + min)// 2 #midpoint\n",
    "        if x > num[mid]: #x is in greater half\n",
    "            min = mid + 1\n",
    "        elif x < num[mid]: #x is in lesser half\n",
    "            max = mid - 1\n",
    "        else: #x == num[mid]\n",
    "            found = True\n",
    "            break\n",
    "        \n",
    "    if found:\n",
    "        print('Found!')\n",
    "    else:\n",
    "        print('Not found.')\n",
    "\n",
    "    "
   ]
  },
  {
   "cell_type": "code",
   "execution_count": 53,
   "metadata": {},
   "outputs": [
    {
     "name": "stdout",
     "output_type": "stream",
     "text": [
      "Found!\n",
      "Linear Search\n",
      "Execution time: 3335.232973098755ms\n",
      "Found!\n",
      "Binary Search\n",
      "Execution time: 0.0ms\n"
     ]
    }
   ],
   "source": [
    "import time\n",
    "\n",
    "# num = [0,1,2,3,4,5,6,7,8,9]\n",
    "num = list(range(10**8))\n",
    "x = int(input('Enter number: '))\n",
    "\n",
    "start = time.time()\n",
    "linear_search(x, num)\n",
    "end = time.time()\n",
    "print(f\"Linear Search\\nExecution time: {(end-start) * 10**3}ms\")\n",
    "\n",
    "start = time.time()\n",
    "binary_search(x, num)\n",
    "end = time.time()\n",
    "print(f\"Binary Search\\nExecution time: {(end-start) * 10**3}ms\")"
   ]
  },
  {
   "attachments": {},
   "cell_type": "markdown",
   "metadata": {},
   "source": [
    "Time complexity"
   ]
  },
  {
   "cell_type": "code",
   "execution_count": 55,
   "metadata": {},
   "outputs": [
    {
     "name": "stdout",
     "output_type": "stream",
     "text": [
      "Linear search: 100000000\n",
      "Binary search: 26.5754247590989\n"
     ]
    }
   ],
   "source": [
    "import math\n",
    "#linear search = O(n)\n",
    "print(f'Linear search: {len(num)}')\n",
    "\n",
    "#binary search = log2(n)\n",
    "print(f'Binary search: {math.log(len(num),2)}')"
   ]
  },
  {
   "attachments": {},
   "cell_type": "markdown",
   "metadata": {},
   "source": [
    "Chatgpt API"
   ]
  },
  {
   "cell_type": "code",
   "execution_count": null,
   "metadata": {},
   "outputs": [],
   "source": [
    "#!pip3 install openai\n",
    "\n",
    "import openai\n",
    "\n",
    "openai.api_key = 'YOUR_API_KEY'\n",
    "\n",
    "messages = [ {\"role\": \"system\", \"content\":\n",
    "\t\t\t\"You are a intelligent assistant.\"} ]\n",
    "# while True:\n",
    "for i in range(5): #limit to 5 iters for testing\n",
    "    message = input(\"User : \")\n",
    "    if message:\n",
    "        messages.append(\n",
    "            {\"role\": \"user\", \"content\": message},\n",
    "        )\n",
    "        chat = openai.ChatCompletion.create(\n",
    "            model=\"gpt-3.5-turbo\", messages=messages\n",
    "        )\n",
    "    reply = chat.choices[0].message.content\n",
    "    print(f\"ChatGPT: {reply}\")           \n",
    "    messages.append({\"role\": \"assistant\", \"content\": reply})\n"
   ]
  }
 ],
 "metadata": {
  "kernelspec": {
   "display_name": "Python 3",
   "language": "python",
   "name": "python3"
  },
  "language_info": {
   "codemirror_mode": {
    "name": "ipython",
    "version": 3
   },
   "file_extension": ".py",
   "mimetype": "text/x-python",
   "name": "python",
   "nbconvert_exporter": "python",
   "pygments_lexer": "ipython3",
   "version": "3.11.3"
  },
  "orig_nbformat": 4
 },
 "nbformat": 4,
 "nbformat_minor": 2
}
